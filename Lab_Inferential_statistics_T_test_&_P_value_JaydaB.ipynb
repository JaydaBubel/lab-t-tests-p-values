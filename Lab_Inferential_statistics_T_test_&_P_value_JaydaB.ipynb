{
  "nbformat": 4,
  "nbformat_minor": 0,
  "metadata": {
    "colab": {
      "provenance": [],
      "mount_file_id": "1WgflDl0_xgezYjIEoILw60zb0GveRBdz",
      "authorship_tag": "ABX9TyPBfWeOIUm/tDPKkBlHQ+Nn",
      "include_colab_link": true
    },
    "kernelspec": {
      "name": "python3",
      "display_name": "Python 3"
    },
    "language_info": {
      "name": "python"
    }
  },
  "cells": [
    {
      "cell_type": "markdown",
      "metadata": {
        "id": "view-in-github",
        "colab_type": "text"
      },
      "source": [
        "<a href=\"https://colab.research.google.com/github/JaydaBubel/lab-t-tests-p-values/blob/master/Lab_Inferential_statistics_T_test_%26_P_value_JaydaB.ipynb\" target=\"_parent\"><img src=\"https://colab.research.google.com/assets/colab-badge.svg\" alt=\"Open In Colab\"/></a>"
      ]
    },
    {
      "cell_type": "markdown",
      "source": [
        "**Question 1:**\n",
        "We will have another simple example on two sample t test (pooled- when the variances are equal). But this time this is a one sided t-test\n",
        "In a packing plant, a machine packs cartons with jars. It is supposed that a new machine will pack faster on the average than the machine currently used. To test that hypothesis, the times it takes each machine to pack ten cartons are recorded. The results, in seconds, are shown in the tables in the file files_for_lab/machine.txt. Assume that there is sufficient evidence to conduct the t test, does the data provide sufficient evidence to show if one machine is better than the other."
      ],
      "metadata": {
        "id": "Nq_47uUc4n-A"
      }
    },
    {
      "cell_type": "code",
      "source": [
        "import numpy as np\n",
        "from scipy import stats"
      ],
      "metadata": {
        "id": "NkAMSEeK4pjj"
      },
      "execution_count": 1,
      "outputs": []
    },
    {
      "cell_type": "code",
      "source": [
        "newmachine = np.array([42.1, 41.0, 41.3, 41.8, 42.4, 42.8, 43.2, 42.3, 41.8, 42.7])\n",
        "oldmachine = np.array([42.7, 43.6, 43.8, 43.3, 42.5, 43.5, 43.1, 41.7, 44.0, 44.1])"
      ],
      "metadata": {
        "id": "tSvofwkp43Jw"
      },
      "execution_count": 3,
      "outputs": []
    },
    {
      "cell_type": "code",
      "source": [
        "old_mean = np.mean(oldmachine)\n",
        "old_std = np.std(oldmachine)\n",
        "new_mean = np.mean(newmachine)\n",
        "new_std = np.std(newmachine)\n",
        "print (new_mean, old_mean)"
      ],
      "metadata": {
        "colab": {
          "base_uri": "https://localhost:8080/"
        },
        "id": "05yT4v804_XU",
        "outputId": "dd6306f0-4577-41b9-deee-2b273728ac6a"
      },
      "execution_count": 5,
      "outputs": [
        {
          "output_type": "stream",
          "name": "stdout",
          "text": [
            "42.14 43.230000000000004\n"
          ]
        }
      ]
    },
    {
      "cell_type": "code",
      "source": [
        "t_statistic, p_value = stats.ttest_ind(newmachine, oldmachine)\n",
        "print (t_statistic, p_value)"
      ],
      "metadata": {
        "colab": {
          "base_uri": "https://localhost:8080/"
        },
        "id": "7tDw2q4H6A9P",
        "outputId": "01ca6fe8-3d67-4f2d-f7f6-984ce3c69493"
      },
      "execution_count": 6,
      "outputs": [
        {
          "output_type": "stream",
          "name": "stdout",
          "text": [
            "-3.3972307061176026 0.0032111425007745158\n"
          ]
        }
      ]
    },
    {
      "cell_type": "markdown",
      "source": [
        "The above hypthesis is correct; the new machine performs slightly better.\n"
      ],
      "metadata": {
        "id": "RcV6ys3V6GHC"
      }
    }
  ]
}